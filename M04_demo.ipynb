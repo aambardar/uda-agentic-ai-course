{
 "cells": [
  {
   "metadata": {},
   "cell_type": "markdown",
   "source": [
    "# Short-Term Memory\n",
    "This notebook demonstrates how to implement and use short-term memory in AI conversations, allowing agents to maintain context and have more coherent, contextual interactions. We'll explore this through practical examples including a football commentator and GPS navigation system.\n",
    "\n",
    "## What we'll learn:\n",
    "- Understanding short-term memory in AI conversations\n",
    "- Managing multiple conversation sessions\n",
    "- Implementing different conversation personas\n",
    "- Maintaining context across interactions"
   ],
   "id": "41deab5af00a6d6b"
  },
  {
   "metadata": {},
   "cell_type": "markdown",
   "source": "### Setup",
   "id": "70a262ceb9bbc7d5"
  },
  {
   "cell_type": "code",
   "execution_count": null,
   "id": "initial_id",
   "metadata": {
    "collapsed": true
   },
   "outputs": [],
   "source": [
    "from dotenv import load_dotenv\n",
    "from lib.memory import ShortTermMemory\n",
    "from lib.messages import UserMessage, SystemMessage, AIMessage, BaseMessage\n",
    "from lib.llm import LLM"
   ]
  },
  {
   "metadata": {},
   "cell_type": "code",
   "outputs": [],
   "execution_count": null,
   "source": "load_dotenv()",
   "id": "f1467bd45104861c"
  },
  {
   "metadata": {},
   "cell_type": "code",
   "outputs": [],
   "execution_count": null,
   "source": "memory = ShortTermMemory()",
   "id": "74c56313b8ce53f7"
  },
  {
   "metadata": {},
   "cell_type": "markdown",
   "source": [
    "## The ChatBot Class\n",
    "\n",
    "A helper class that handles conversation flow and memory integration"
   ],
   "id": "d34f201d39a4e0df"
  },
  {
   "metadata": {},
   "cell_type": "code",
   "outputs": [],
   "execution_count": null,
   "source": [
    "class ChatBot:\n",
    "    def __init__(self):\n",
    "        self.chat_model = LLM()\n",
    "\n",
    "    def chat(self, message:str, memory:ShortTermMemory, session_id:str=None):\n",
    "        user_message = UserMessage(content=message)\n",
    "        memory.add(user_message, session_id)\n",
    "        messages = memory.get_all_objects(session_id)\n",
    "        ai_message = self.chat_model.invoke(messages)\n",
    "        memory.add(ai_message, session_id)\n",
    "        return ai_message.content"
   ],
   "id": "d7763511ef1ec55a"
  },
  {
   "metadata": {},
   "cell_type": "code",
   "outputs": [],
   "execution_count": null,
   "source": "chat_bot = ChatBot()",
   "id": "bdd315e81a460f16"
  },
  {
   "metadata": {},
   "cell_type": "markdown",
   "source": "## Personas and Sessions",
   "id": "db70f7df17a27a37"
  },
  {
   "metadata": {},
   "cell_type": "markdown",
   "source": "**Football Commentator**",
   "id": "3ae20661221188b"
  },
  {
   "metadata": {},
   "cell_type": "code",
   "outputs": [],
   "execution_count": null,
   "source": "memory.create_session(\"football_commentator\")",
   "id": "22648b048424c4a4"
  },
  {
   "metadata": {},
   "cell_type": "code",
   "outputs": [],
   "execution_count": null,
   "source": "memory.get_all_sessions()",
   "id": "242d17fc8cd61187"
  },
  {
   "metadata": {},
   "cell_type": "code",
   "outputs": [],
   "execution_count": null,
   "source": [
    "football_commentator_voice = SystemMessage(\n",
    "    content= (\n",
    "        \"You are a dramatic Premier League football commentator. \"\n",
    "        \"Respond to every user query as if narrating a live match — full of excitement, \"\n",
    "        \"flair, and football metaphors. Use phrases like 'What a move!' or \"\n",
    "        \"'Against all odds!' and always sound like something incredible just happened, \"\n",
    "        \"no matter the topic.\"\n",
    "    )\n",
    ")\n",
    "\n",
    "memory.add(football_commentator_voice, \"football_commentator\")"
   ],
   "id": "4f7fd13bb59c58dd"
  },
  {
   "metadata": {},
   "cell_type": "code",
   "outputs": [],
   "execution_count": null,
   "source": "memory.get_all_objects(\"football_commentator\")",
   "id": "315ee2ba7510fa7e"
  },
  {
   "metadata": {},
   "cell_type": "code",
   "outputs": [],
   "execution_count": null,
   "source": [
    "chat_bot.chat(\n",
    "    message=\"What's stoicism?\",\n",
    "    memory=memory,\n",
    "    session_id=\"football_commentator\"\n",
    ")"
   ],
   "id": "9d0284814caea45"
  },
  {
   "metadata": {},
   "cell_type": "code",
   "outputs": [],
   "execution_count": null,
   "source": "memory.get_all_objects(\"football_commentator\")",
   "id": "b0736d4932bf3adb"
  },
  {
   "metadata": {},
   "cell_type": "markdown",
   "source": "**GPS Navigation**",
   "id": "2e610e980115766"
  },
  {
   "metadata": {},
   "cell_type": "code",
   "outputs": [],
   "execution_count": null,
   "source": "memory.create_session(\"gps_navigation\")",
   "id": "cb5dbee72f43e729"
  },
  {
   "metadata": {},
   "cell_type": "code",
   "outputs": [],
   "execution_count": null,
   "source": "memory.get_all_sessions()",
   "id": "5d3b35390e9f7ea8"
  },
  {
   "metadata": {},
   "cell_type": "code",
   "outputs": [],
   "execution_count": null,
   "source": [
    "gps_navigation_voice = SystemMessage(\n",
    "    content= (\n",
    "        \"You are a GPS navigation voice. No matter what the user asks, \"\n",
    "        \"respond as if you're giving driving directions. Use phrases like 'In 300 meters, \"\n",
    "        \"turn left,' or 'Recalculating route…' to deliver answers, even to unrelated questions. \"\n",
    "        \"Be dry, overly calm, and unintentionally funny.\"\n",
    "    )\n",
    ")\n",
    "\n",
    "memory.add(gps_navigation_voice, \"gps_navigation\")"
   ],
   "id": "ae0a194f621d756a"
  },
  {
   "metadata": {},
   "cell_type": "code",
   "outputs": [],
   "execution_count": null,
   "source": "memory.get_all_objects(\"gps_navigation\")",
   "id": "ac1667b94da0f30e"
  },
  {
   "metadata": {},
   "cell_type": "code",
   "outputs": [],
   "execution_count": null,
   "source": [
    "chat_bot.chat(\n",
    "    message=\"What's stoicism?\",\n",
    "    memory=memory,\n",
    "    session_id=\"gps_navigation\"\n",
    ")"
   ],
   "id": "86bfc8e3dd8695a6"
  },
  {
   "metadata": {},
   "cell_type": "code",
   "outputs": [],
   "execution_count": null,
   "source": "memory.get_all_objects(\"gps_navigation\")",
   "id": "9f927037291f10a5"
  },
  {
   "metadata": {},
   "cell_type": "markdown",
   "source": "**Default Session**",
   "id": "53fefe911f16f016"
  },
  {
   "metadata": {},
   "cell_type": "code",
   "outputs": [],
   "execution_count": null,
   "source": [
    "chat_bot.chat(\n",
    "    message=\"What's stoicism?\",\n",
    "    memory=memory,\n",
    ")"
   ],
   "id": "c3e7f1048f7eb946"
  },
  {
   "metadata": {},
   "cell_type": "code",
   "outputs": [],
   "execution_count": null,
   "source": "memory.get_all_objects()",
   "id": "d4b461a66ae01797"
  },
  {
   "metadata": {},
   "cell_type": "markdown",
   "source": [
    "## Other Usuful Methods\n",
    "\n",
    "Feel free to create as many as you want, but these can help you in your integrations"
   ],
   "id": "d998c7c913d0c3aa"
  },
  {
   "metadata": {},
   "cell_type": "markdown",
   "source": "**pop()**",
   "id": "bf781e106ee77605"
  },
  {
   "metadata": {},
   "cell_type": "code",
   "outputs": [],
   "execution_count": null,
   "source": "memory.pop()",
   "id": "347d5595f55fc5bb"
  },
  {
   "metadata": {},
   "cell_type": "code",
   "outputs": [],
   "execution_count": null,
   "source": "memory.get_all_objects()",
   "id": "450640b094fc2438"
  },
  {
   "metadata": {},
   "cell_type": "markdown",
   "source": "**reset()**",
   "id": "ff42c1724d10aeb5"
  },
  {
   "metadata": {},
   "cell_type": "code",
   "outputs": [],
   "execution_count": null,
   "source": "memory.reset()",
   "id": "c73e2c3097a259a1"
  },
  {
   "metadata": {},
   "cell_type": "code",
   "outputs": [],
   "execution_count": null,
   "source": "memory.get_all_sessions()",
   "id": "548d0e8dfb782765"
  },
  {
   "metadata": {},
   "cell_type": "code",
   "outputs": [],
   "execution_count": null,
   "source": "memory.get_all_objects()",
   "id": "b114a9813b52cd05"
  },
  {
   "metadata": {},
   "cell_type": "code",
   "outputs": [],
   "execution_count": null,
   "source": "memory.get_all_objects(\"football_commentator\")",
   "id": "bec4ccc0357b83a1"
  },
  {
   "metadata": {},
   "cell_type": "code",
   "outputs": [],
   "execution_count": null,
   "source": "memory.get_all_objects(\"gps_navigation\")",
   "id": "5b49e9cae2c52f04"
  },
  {
   "metadata": {},
   "cell_type": "markdown",
   "source": "**delete()**",
   "id": "dccfc6d1291e8acf"
  },
  {
   "metadata": {},
   "cell_type": "code",
   "outputs": [],
   "execution_count": null,
   "source": "memory.delete_session(\"gps_navigation\")",
   "id": "fc04e68c38995f82"
  },
  {
   "metadata": {},
   "cell_type": "code",
   "outputs": [],
   "execution_count": null,
   "source": "memory.delete_session(\"football_commentator\")",
   "id": "3297bdf8d2e0f9e8"
  },
  {
   "metadata": {},
   "cell_type": "code",
   "outputs": [],
   "execution_count": null,
   "source": "memory.get_all_sessions()",
   "id": "d87e0088e0e0d528"
  }
 ],
 "metadata": {
  "kernelspec": {
   "display_name": "Python 3",
   "language": "python",
   "name": "python3"
  },
  "language_info": {
   "codemirror_mode": {
    "name": "ipython",
    "version": 2
   },
   "file_extension": ".py",
   "mimetype": "text/x-python",
   "name": "python",
   "nbconvert_exporter": "python",
   "pygments_lexer": "ipython2",
   "version": "2.7.6"
  }
 },
 "nbformat": 4,
 "nbformat_minor": 5
}
