{
 "cells": [
  {
   "metadata": {},
   "cell_type": "markdown",
   "source": [
    "# Module 08: Agentic RAG\n",
    "This notebook demonstrates how traditional Chroma DB works for RAG pipelines.\n",
    "\n",
    "## What we'll learn:\n",
    "- ChromaDB\n",
    "- OpenAI Embeddings\n",
    "- RAG using State Machine\n",
    "- Retrieval, Augment and Generation as steps"
   ],
   "id": "31f5745a32c69631"
  },
  {
   "cell_type": "code",
   "execution_count": null,
   "id": "initial_id",
   "metadata": {
    "collapsed": true
   },
   "outputs": [],
   "source": [
    "# Only needed for Udacity workspace\n",
    "\n",
    "import importlib.util\n",
    "import sys\n",
    "\n",
    "# Check if 'pysqlite3' is available before importing\n",
    "if importlib.util.find_spec(\"pysqlite3\") is not None:\n",
    "    import pysqlite3\n",
    "    sys.modules['sqlite3'] = sys.modules.pop('pysqlite3')"
   ]
  },
  {
   "metadata": {},
   "cell_type": "code",
   "outputs": [],
   "execution_count": null,
   "source": [
    "import os\n",
    "import chromadb\n",
    "from chromadb.utils import embedding_functions\n",
    "from chromadb.api.models.Collection import Collection\n",
    "import pdfplumber\n",
    "from dotenv import load_dotenv\n",
    "from typing import TypedDict, List\n",
    "\n",
    "from lib.state_machine import StateMachine, Step, EntryPoint, Termination, Resource\n",
    "from lib.llm import LLM\n",
    "from lib.messages import BaseMessage, UserMessage, SystemMessage"
   ],
   "id": "a913c14fb381a328"
  },
  {
   "metadata": {},
   "cell_type": "code",
   "outputs": [],
   "execution_count": null,
   "source": [
    "import logging\n",
    "logging.getLogger('pdfminer').setLevel(logging.ERROR)"
   ],
   "id": "ce26ca61b64baf0c"
  },
  {
   "metadata": {},
   "cell_type": "code",
   "outputs": [],
   "execution_count": null,
   "source": [
    "sentence_list = [\n",
    "    \"Meta drops multimodal Llama 3.2 — here's why it's such a big deal\",\n",
    "    \"Chip giant Nvidia acquires OctoAI, a Seattle startup that helps companies run AI models\",\n",
    "    \"Google is bringing Gemini to all older Pixel Buds\",\n",
    "    \"The first Intel Battlmage GPU benchmarks have leaked\",\n",
    "    \"Dell partners with Nvidia to accelerate AI adoption in telecoms\",\n",
    "]\n",
    "ids = [\"id1\", \"id2\", \"id3\", \"id4\", \"id5\"]"
   ],
   "id": "3851b233390acd03"
  },
  {
   "metadata": {},
   "cell_type": "markdown",
   "source": "## ChromaDB with Default Embedding Function",
   "id": "296e58ecaab9db26"
  },
  {
   "metadata": {},
   "cell_type": "code",
   "outputs": [],
   "execution_count": null,
   "source": "chroma_client = chromadb.Client()",
   "id": "1c09a5e792557013"
  },
  {
   "metadata": {},
   "cell_type": "code",
   "outputs": [],
   "execution_count": null,
   "source": [
    "collection = chroma_client.create_collection(\n",
    "    name=\"demo\"\n",
    ")"
   ],
   "id": "99778c98ac252ded"
  },
  {
   "metadata": {},
   "cell_type": "code",
   "outputs": [],
   "execution_count": null,
   "source": [
    "collection.add(\n",
    "    documents=sentence_list,\n",
    "    ids=ids\n",
    ")"
   ],
   "id": "bf23549a4ab6468"
  },
  {
   "metadata": {},
   "cell_type": "code",
   "outputs": [],
   "execution_count": null,
   "source": "collection.count()",
   "id": "96da56ffeb825e8a"
  },
  {
   "metadata": {},
   "cell_type": "code",
   "outputs": [],
   "execution_count": null,
   "source": "collection.peek(1)",
   "id": "c3def9659005847a"
  },
  {
   "metadata": {},
   "cell_type": "code",
   "outputs": [],
   "execution_count": null,
   "source": [
    "collection.query(\n",
    "    query_texts=[\"gadget\"],\n",
    "    n_results=2,\n",
    "    include=['metadatas', 'documents', 'distances']\n",
    ")"
   ],
   "id": "f7b580079c690e6c"
  },
  {
   "metadata": {},
   "cell_type": "code",
   "outputs": [],
   "execution_count": null,
   "source": [
    "result = collection.query(\n",
    "    query_texts=[\"gadget\"],\n",
    "    n_results=2,\n",
    "    include=['metadatas', 'documents', 'distances']\n",
    ")\n",
    "\n",
    "result['documents'][0]"
   ],
   "id": "b90e8adfd4902dcd"
  },
  {
   "metadata": {},
   "cell_type": "code",
   "outputs": [],
   "execution_count": null,
   "source": "print(collection._embedding_function.name())",
   "id": "324b1d62ca9fc530"
  },
  {
   "metadata": {},
   "cell_type": "code",
   "outputs": [],
   "execution_count": null,
   "source": [
    "size = len(collection.peek(1)['embeddings'][0])\n",
    "print(f\"Size of the embeddings array: {size}\")\n"
   ],
   "id": "63aea9e00f461694"
  },
  {
   "metadata": {},
   "cell_type": "markdown",
   "source": "## OpenAI Embeddings",
   "id": "c01976f857cf9d75"
  },
  {
   "metadata": {},
   "cell_type": "code",
   "outputs": [],
   "execution_count": null,
   "source": "chroma_client.delete_collection(name=\"demo\")",
   "id": "d4f6d3a62e3d881c"
  },
  {
   "metadata": {},
   "cell_type": "code",
   "outputs": [],
   "execution_count": null,
   "source": [
    "embeddings_fn = embedding_functions.OpenAIEmbeddingFunction(\n",
    "    api_key=os.getenv(\"OPENAI_API_KEY\")\n",
    ")"
   ],
   "id": "3957a9c5ac77b64b"
  },
  {
   "metadata": {},
   "cell_type": "code",
   "outputs": [],
   "execution_count": null,
   "source": [
    "collection = chroma_client.create_collection(\n",
    "    name=\"demo\",\n",
    "    embedding_function=embeddings_fn\n",
    ")"
   ],
   "id": "8dbcdbe41c175df0"
  },
  {
   "metadata": {},
   "cell_type": "code",
   "outputs": [],
   "execution_count": null,
   "source": [
    "collection.add(\n",
    "    documents=sentence_list,\n",
    "    ids=ids\n",
    ")"
   ],
   "id": "ff21980e4ca901d9"
  },
  {
   "metadata": {},
   "cell_type": "code",
   "outputs": [],
   "execution_count": null,
   "source": [
    "collection.query(\n",
    "    query_texts=[\"gadget\"],\n",
    "    n_results=2,\n",
    "    include=['metadatas', 'documents', 'distances']\n",
    ")"
   ],
   "id": "9c74259dd867dc38"
  },
  {
   "metadata": {},
   "cell_type": "code",
   "outputs": [],
   "execution_count": null,
   "source": "print(collection._embedding_function.name())",
   "id": "f92704ea10845b2f"
  },
  {
   "metadata": {},
   "cell_type": "code",
   "outputs": [],
   "execution_count": null,
   "source": [
    "size = len(collection.peek(1)['embeddings'][0])\n",
    "print(f\"Size of the embeddings array: {size}\")"
   ],
   "id": "b3a3a81946da614c"
  },
  {
   "metadata": {},
   "cell_type": "markdown",
   "source": "## RAG",
   "id": "d082fd22d6e0528f"
  },
  {
   "metadata": {},
   "cell_type": "markdown",
   "source": "**Load**",
   "id": "f5d14bc49a3f62c7"
  },
  {
   "metadata": {},
   "cell_type": "code",
   "outputs": [],
   "execution_count": null,
   "source": [
    "file_path = \"GlobalEVOutlook2025.pdf\"\n",
    "documents = []\n",
    "page_nums = []"
   ],
   "id": "d7660ea93d5bac50"
  },
  {
   "metadata": {},
   "cell_type": "code",
   "outputs": [],
   "execution_count": null,
   "source": [
    "with pdfplumber.open(file_path) as pdf:\n",
    "    for num, page in enumerate(pdf.pages, start=1):\n",
    "        text = page.extract_text()\n",
    "        if text:\n",
    "            documents.append(text)\n",
    "            page_nums.append(str(num))\n"
   ],
   "id": "c450712234202741"
  },
  {
   "metadata": {},
   "cell_type": "code",
   "outputs": [],
   "execution_count": null,
   "source": [
    "collection = chroma_client.create_collection(\n",
    "    name=\"traditional_rag\",\n",
    "    embedding_function=embeddings_fn\n",
    ")"
   ],
   "id": "4df049a9333ddf6c"
  },
  {
   "metadata": {},
   "cell_type": "code",
   "outputs": [],
   "execution_count": null,
   "source": [
    "collection.add(\n",
    "    documents=documents,\n",
    "    ids=page_nums\n",
    ")"
   ],
   "id": "4aeeaf9b6f76b190"
  },
  {
   "metadata": {},
   "cell_type": "markdown",
   "source": "**State Machine**",
   "id": "20e32bd661a02ff0"
  },
  {
   "metadata": {},
   "cell_type": "code",
   "outputs": [],
   "execution_count": null,
   "source": [
    "class State(TypedDict):\n",
    "    messages: List[BaseMessage]\n",
    "    question: str\n",
    "    documents: List[str]\n",
    "    answer: str"
   ],
   "id": "d5d046f9e602c3c1"
  },
  {
   "metadata": {},
   "cell_type": "markdown",
   "source": "**RAG: Retrieve**",
   "id": "75e7bb6895701253"
  },
  {
   "metadata": {},
   "cell_type": "code",
   "outputs": [],
   "execution_count": null,
   "source": [
    "def retrieve(state:State, resource:Resource):\n",
    "    question = state[\"question\"]\n",
    "    collection:Collection = resource.vars.get(\"collection\")\n",
    "    results = collection.query(\n",
    "        query_texts=[question],\n",
    "        n_results=3,\n",
    "        include=['documents']\n",
    "    )\n",
    "    retrieved_docs = results['documents'][0]\n",
    "\n",
    "    return {\"documents\": retrieved_docs}"
   ],
   "id": "3db042fe7e89b07d"
  },
  {
   "metadata": {},
   "cell_type": "markdown",
   "source": "**RAG: Augment**",
   "id": "fc4f3b581964d964"
  },
  {
   "metadata": {},
   "cell_type": "code",
   "outputs": [],
   "execution_count": null,
   "source": [
    "def augment(state:State):\n",
    "    question = state[\"question\"]\n",
    "    documents = state[\"documents\"]\n",
    "    context = \"\\n\\n\".join(documents)\n",
    "\n",
    "    messages = [\n",
    "        SystemMessage(content=\"You are an assistant for question-answering tasks.\"),\n",
    "        UserMessage(\n",
    "            content=(\n",
    "                \"Use the following pieces of retrieved context to answer the question. \"\n",
    "                \"If you don't know the answer, just say that you don't know. \"\n",
    "                f\"\\n# Question: \\n-> {question} \"\n",
    "                f\"\\n# Context: \\n-> {context} \"\n",
    "                \"\\n# Answer: \"\n",
    "            )\n",
    "        )\n",
    "    ]\n",
    "\n",
    "    return {\"messages\": messages}"
   ],
   "id": "f87f587f1ef14a6f"
  },
  {
   "metadata": {},
   "cell_type": "markdown",
   "source": "**RAG: Generate**",
   "id": "f8eeca18f0894abc"
  },
  {
   "metadata": {},
   "cell_type": "code",
   "outputs": [],
   "execution_count": null,
   "source": [
    "def generate(state:State, resource:Resource):\n",
    "    llm:LLM = resource.vars.get(\"llm\")\n",
    "    ai_message = llm.invoke(state[\"messages\"])\n",
    "    return {\n",
    "        \"answer\": ai_message.content,\n",
    "        \"messages\": state[\"messages\"] + [ai_message],\n",
    "    }"
   ],
   "id": "3ca358216d99258a"
  },
  {
   "metadata": {},
   "cell_type": "code",
   "outputs": [],
   "execution_count": null,
   "source": "workflow = StateMachine(State)",
   "id": "70ec3369592bb069"
  },
  {
   "metadata": {},
   "cell_type": "code",
   "outputs": [],
   "execution_count": null,
   "source": [
    "# Create steps\n",
    "entry = EntryPoint()\n",
    "retrieve_step = Step(\"retrieve\", retrieve)\n",
    "augment_step = Step(\"augment\", augment)\n",
    "generate_step = Step(\"generate\", generate)\n",
    "termination = Termination()\n",
    "\n",
    "workflow.add_steps(\n",
    "    [\n",
    "        entry,\n",
    "        retrieve_step,\n",
    "        augment_step,\n",
    "        generate_step,\n",
    "        termination\n",
    "    ]\n",
    ")"
   ],
   "id": "30b55fc2b7e0e67e"
  },
  {
   "metadata": {},
   "cell_type": "code",
   "outputs": [],
   "execution_count": null,
   "source": [
    "# Add transitions\n",
    "workflow.connect(entry, retrieve_step)\n",
    "workflow.connect(retrieve_step, augment_step)\n",
    "workflow.connect(augment_step, generate_step)\n",
    "workflow.connect(generate_step, termination)"
   ],
   "id": "120784ebffc04d65"
  },
  {
   "metadata": {},
   "cell_type": "code",
   "outputs": [],
   "execution_count": null,
   "source": [
    "llm = LLM(\n",
    "    model=\"gpt-4o-mini\",\n",
    "    temperature=0.3,\n",
    ")"
   ],
   "id": "df2a9394e71134ef"
  },
  {
   "metadata": {},
   "cell_type": "code",
   "outputs": [],
   "execution_count": null,
   "source": [
    "resource = Resource(\n",
    "    vars = {\n",
    "        \"llm\": llm,\n",
    "        \"collection\": collection,\n",
    "    }\n",
    ")"
   ],
   "id": "a568c07d29c6eebe"
  },
  {
   "metadata": {},
   "cell_type": "code",
   "outputs": [],
   "execution_count": null,
   "source": [
    "initial_state: State = {\n",
    "    \"question\": \"What was the number of electric car sales and their market share in Brazil in 2024?\",\n",
    "}"
   ],
   "id": "2c266ee1129c40c"
  },
  {
   "metadata": {},
   "cell_type": "code",
   "outputs": [],
   "execution_count": null,
   "source": "run_object = workflow.run(initial_state, resource)",
   "id": "552f63dcd54fc50e"
  },
  {
   "metadata": {},
   "cell_type": "code",
   "outputs": [],
   "execution_count": null,
   "source": "run_object.get_final_state()[\"answer\"]",
   "id": "4479253ca0cdf199"
  }
 ],
 "metadata": {
  "kernelspec": {
   "display_name": "Python 3",
   "language": "python",
   "name": "python3"
  },
  "language_info": {
   "codemirror_mode": {
    "name": "ipython",
    "version": 2
   },
   "file_extension": ".py",
   "mimetype": "text/x-python",
   "name": "python",
   "nbconvert_exporter": "python",
   "pygments_lexer": "ipython2",
   "version": "2.7.6"
  }
 },
 "nbformat": 4,
 "nbformat_minor": 5
}
