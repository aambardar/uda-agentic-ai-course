{
 "cells": [
  {
   "metadata": {},
   "cell_type": "markdown",
   "source": [
    "# State Management with StateMachine\n",
    "This notebook demonstrates how to work with state management using a StateMachine implementation. We'll explore how to create, manage, and control workflow states in a structured way.\n",
    "\n",
    "## What we'll learn:\n",
    "- Basic state machine concepts and implementation\n",
    "- Creating and connecting workflow steps\n",
    "- Managing state transitions and data flow\n",
    "- Working with routing and loops in state machines\n",
    "- Understanding state snapshots and execution flow"
   ],
   "id": "af14151c64165257"
  },
  {
   "metadata": {},
   "cell_type": "code",
   "outputs": [],
   "execution_count": null,
   "source": [
    "from typing import TypedDict\n",
    "from lib.state_machine import (\n",
    "    StateMachine,\n",
    "    Step,\n",
    "    EntryPoint,\n",
    "    Termination,\n",
    ")"
   ],
   "id": "1d3409c0082e8728"
  },
  {
   "metadata": {},
   "cell_type": "markdown",
   "source": [
    "## Basic State Machine Concepts\n",
    "Let's start with a simple example that demonstrates the core concepts of our state machine:\n",
    "1. Defining state schema\n",
    "2. Creating steps\n",
    "3. Connecting steps\n",
    "4. Running the workflow"
   ],
   "id": "c7438c3f92153190"
  },
  {
   "metadata": {},
   "cell_type": "markdown",
   "source": "**Creating the Schema and the State Machine**",
   "id": "e81510495d090f0e"
  },
  {
   "metadata": {},
   "cell_type": "code",
   "outputs": [],
   "execution_count": null,
   "source": [
    "class Schema(TypedDict):\n",
    "    \"\"\"Schema defining the structure of our state.\n",
    "\n",
    "    Attributes:\n",
    "        input: The input value to process\n",
    "        output: The processed output value\n",
    "    \"\"\"\n",
    "    input: int\n",
    "    output: int"
   ],
   "id": "27d248353baf3e9a"
  },
  {
   "metadata": {},
   "cell_type": "code",
   "outputs": [],
   "execution_count": null,
   "source": [
    "# Create our state machine instance\n",
    "workflow = StateMachine(Schema)"
   ],
   "id": "10e5a8f3abe97757"
  },
  {
   "metadata": {},
   "cell_type": "markdown",
   "source": "**Defining the logic for Steps**",
   "id": "24753b45f3052762"
  },
  {
   "metadata": {},
   "cell_type": "code",
   "outputs": [],
   "execution_count": null,
   "source": [
    "def step_input(state: Schema) -> Schema:\n",
    "    \"\"\"First step: Increment the input value.\n",
    "\n",
    "    Args:\n",
    "        state: Current state containing input value\n",
    "\n",
    "    Returns:\n",
    "        Updated state with incremented value in output\n",
    "    \"\"\"\n",
    "    return {\"output\": state[\"input\"] + 1, \"random\": 10}\n",
    "\n"
   ],
   "id": "93d88706e17e9b8d"
  },
  {
   "metadata": {},
   "cell_type": "code",
   "outputs": [],
   "execution_count": null,
   "source": [
    "def step_double(state: Schema) -> Schema:\n",
    "    \"\"\"Second step: Double the previous output.\n",
    "\n",
    "    Args:\n",
    "        state: Current state containing output from previous step\n",
    "\n",
    "    Returns:\n",
    "        Updated state with doubled output value\n",
    "    \"\"\"\n",
    "    return {\"output\": state[\"output\"] * 2}\n"
   ],
   "id": "4d2b8ef692c2cd3"
  },
  {
   "metadata": {},
   "cell_type": "markdown",
   "source": "**Creating and Connecting Steps**",
   "id": "b8c3745460ee44b5"
  },
  {
   "metadata": {},
   "cell_type": "code",
   "outputs": [],
   "execution_count": null,
   "source": [
    "entry = EntryPoint()\n",
    "s1 = Step(\"input\", step_input)\n",
    "s2 = Step(\"double\", step_double)\n",
    "termination = Termination()"
   ],
   "id": "d2dff777e3b6b719"
  },
  {
   "metadata": {},
   "cell_type": "code",
   "outputs": [],
   "execution_count": null,
   "source": "workflow.add_steps([entry, s1, s2, termination])",
   "id": "4705bbdd8925423d"
  },
  {
   "metadata": {},
   "cell_type": "code",
   "outputs": [],
   "execution_count": null,
   "source": [
    "workflow.connect(entry, s1)\n",
    "workflow.connect(s1, s2)\n",
    "workflow.connect(s2, termination)"
   ],
   "id": "23878ee191177b6a"
  },
  {
   "metadata": {},
   "cell_type": "code",
   "outputs": [],
   "execution_count": null,
   "source": "workflow.transitions",
   "id": "6d9d4f4e31ebd587"
  },
  {
   "metadata": {},
   "cell_type": "markdown",
   "source": "**Running the Workflow**",
   "id": "ff46048f7a033949"
  },
  {
   "metadata": {},
   "cell_type": "code",
   "outputs": [],
   "execution_count": null,
   "source": [
    "initial_state = {\"input\": 4}\n",
    "run_object = workflow.run(initial_state)\n",
    "run_object"
   ],
   "id": "e7aab9889feda788"
  },
  {
   "metadata": {},
   "cell_type": "code",
   "outputs": [],
   "execution_count": null,
   "source": "run_object.snapshots",
   "id": "ae9322dab98d6725"
  },
  {
   "metadata": {},
   "cell_type": "markdown",
   "source": [
    "## Advanced State Management: Routing and Loops\n",
    "Now we'll explore more complex state management patterns including:\n",
    "- Conditional routing between steps\n",
    "- Creating loops in the workflow\n",
    "- Managing state through multiple iterations"
   ],
   "id": "7353a33054f7db5c"
  },
  {
   "metadata": {},
   "cell_type": "code",
   "outputs": [],
   "execution_count": null,
   "source": [
    "class CounterSchema(TypedDict):\n",
    "    \"\"\"Schema for a counter-based workflow.\n",
    "\n",
    "    Attributes:\n",
    "        count: Current counter value\n",
    "        max_value: Maximum value before termination\n",
    "    \"\"\"\n",
    "    count: int\n",
    "    max_value: int"
   ],
   "id": "e4cd8ec2f9962376"
  },
  {
   "metadata": {},
   "cell_type": "code",
   "outputs": [],
   "execution_count": null,
   "source": "workflow = StateMachine(CounterSchema)",
   "id": "a5f467049e026ec5"
  },
  {
   "metadata": {},
   "cell_type": "code",
   "outputs": [],
   "execution_count": null,
   "source": [
    "def increment_counter(state: CounterSchema) -> CounterSchema:\n",
    "    \"\"\"Increment the counter value.\n",
    "\n",
    "    Args:\n",
    "        state: Current state with counter value\n",
    "\n",
    "    Returns:\n",
    "        Updated state with incremented counter\n",
    "    \"\"\"\n",
    "    return {\"count\": state[\"count\"] + 1}"
   ],
   "id": "6716b04f1d8faf79"
  },
  {
   "metadata": {},
   "cell_type": "code",
   "outputs": [],
   "execution_count": null,
   "source": [
    "# Create steps\n",
    "entry = EntryPoint()\n",
    "increment = Step(\"increment\", increment_counter)\n",
    "termination = Termination()"
   ],
   "id": "c56d754c0ac04c22"
  },
  {
   "metadata": {},
   "cell_type": "code",
   "outputs": [],
   "execution_count": null,
   "source": "workflow.add_steps([entry, increment, termination])",
   "id": "49b9e6cb38d3ad98"
  },
  {
   "metadata": {},
   "cell_type": "code",
   "outputs": [],
   "execution_count": null,
   "source": [
    "# Router logic\n",
    "def check_counter(state: CounterSchema) -> Step:\n",
    "    \"\"\"Determine next step based on counter value.\n",
    "\n",
    "    Args:\n",
    "        state: Current state with counter and max value\n",
    "\n",
    "    Returns:\n",
    "        Next step to execute (increment or terminate)\n",
    "    \"\"\"\n",
    "    if state[\"count\"] >= state[\"max_value\"]:\n",
    "        return termination\n",
    "    return increment"
   ],
   "id": "372db01292ca6f23"
  },
  {
   "metadata": {},
   "cell_type": "code",
   "outputs": [],
   "execution_count": null,
   "source": [
    "# Connect steps with a loop in increment\n",
    "workflow.connect(entry, increment)\n",
    "workflow.connect(increment, [increment, termination], check_counter)"
   ],
   "id": "7695e1c6d8a50336"
  },
  {
   "metadata": {},
   "cell_type": "code",
   "outputs": [],
   "execution_count": null,
   "source": "workflow.transitions",
   "id": "18cd4241aeb3e187"
  },
  {
   "metadata": {},
   "cell_type": "code",
   "outputs": [],
   "execution_count": null,
   "source": [
    "initial_state = {\"count\": 0, \"max_value\": 3}\n",
    "run_object = workflow.run(initial_state)\n",
    "run_object"
   ],
   "id": "c143b1498fe4974a"
  },
  {
   "metadata": {},
   "cell_type": "code",
   "outputs": [],
   "execution_count": null,
   "source": "run_object.snapshots",
   "id": "84dfe89fdb739350"
  },
  {
   "metadata": {},
   "cell_type": "code",
   "outputs": [],
   "execution_count": null,
   "source": "run_object.get_final_state()",
   "id": "bde3a806e2ebaa71"
  }
 ],
 "metadata": {
  "kernelspec": {
   "display_name": "Python 3",
   "language": "python",
   "name": "python3"
  },
  "language_info": {
   "codemirror_mode": {
    "name": "ipython",
    "version": 2
   },
   "file_extension": ".py",
   "mimetype": "text/x-python",
   "name": "python",
   "nbconvert_exporter": "python",
   "pygments_lexer": "ipython2",
   "version": "2.7.6"
  }
 },
 "nbformat": 4,
 "nbformat_minor": 5
}
