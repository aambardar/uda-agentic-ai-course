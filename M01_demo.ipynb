{
 "cells": [
  {
   "metadata": {},
   "cell_type": "markdown",
   "source": [
    "# Using Tools\n",
    "This notebook demonstrates how we can use tools to gather information and provide more accurate responses. We'll build a weather-checking mock as an example.\n",
    "\n",
    "## What we'll learn:\n",
    "- Basic interaction with Language Models (LLM)\n",
    "- How to create and use tools with AI\n",
    "- The complete flow of an AI agent using tools\n",
    "- Understanding the message flow in a tool-enabled conversation"
   ],
   "id": "fcc52f5161293e4e"
  },
  {
   "metadata": {},
   "cell_type": "markdown",
   "source": "### Setup",
   "id": "d87dd60a821c58e3"
  },
  {
   "cell_type": "code",
   "id": "initial_id",
   "metadata": {
    "collapsed": true,
    "ExecuteTime": {
     "end_time": "2025-10-14T08:56:57.803966Z",
     "start_time": "2025-10-14T08:56:57.593140Z"
    }
   },
   "source": [
    "import json\n",
    "from dotenv import load_dotenv\n",
    "from lib.messages import UserMessage, SystemMessage, ToolMessage  # Different message types\n",
    "from lib.tooling import tool  # Tool decorator for creating AI tools\n",
    "from lib.llm import LLM  # Our Language Model wrapper"
   ],
   "outputs": [],
   "execution_count": 1
  },
  {
   "metadata": {
    "ExecuteTime": {
     "end_time": "2025-10-14T08:56:58.477167Z",
     "start_time": "2025-10-14T08:56:58.446435Z"
    }
   },
   "cell_type": "code",
   "source": "load_dotenv()",
   "id": "335e7b786cb9f44f",
   "outputs": [
    {
     "data": {
      "text/plain": [
       "True"
      ]
     },
     "execution_count": 2,
     "metadata": {},
     "output_type": "execute_result"
    }
   ],
   "execution_count": 2
  },
  {
   "metadata": {
    "ExecuteTime": {
     "end_time": "2025-10-14T08:56:59.078579Z",
     "start_time": "2025-10-14T08:56:59.035198Z"
    }
   },
   "cell_type": "code",
   "source": "import os\n\nchat_model = LLM(\n    api_key=os.getenv(\"OPENAI_API_KEY\"),\n    base_url=os.getenv(\"OPENAI_BASE_URL\")\n)",
   "id": "fc5190e735303902",
   "outputs": [],
   "execution_count": 3
  },
  {
   "metadata": {},
   "cell_type": "markdown",
   "source": [
    "## Basic LLM Interaction\n",
    "Before we dive into tools, let's understand how to interact with our Language Model in its simplest form.\n",
    "There are two main ways to communicate with the model:"
   ],
   "id": "e5f6f7d5ee2b91a3"
  },
  {
   "metadata": {
    "ExecuteTime": {
     "end_time": "2025-10-14T08:57:11.634913Z",
     "start_time": "2025-10-14T08:57:00.451894Z"
    }
   },
   "cell_type": "code",
   "source": [
    "# Method 1: Simple single-turn query\n",
    "response = chat_model.invoke(\"What is an AI Agent?\")\n",
    "print(\"Single Query Response:\\n\", response.content)"
   ],
   "id": "1854620d0caddea1",
   "outputs": [
    {
     "name": "stdout",
     "output_type": "stream",
     "text": [
      "Single Query Response:\n",
      " An AI agent is a system or entity that uses artificial intelligence techniques to perceive its environment, make decisions, and take actions to achieve specific goals. AI agents can operate autonomously or semi-autonomously and can be found in various applications, from simple rule-based systems to complex machine learning models.\n",
      "\n",
      "Key characteristics of AI agents include:\n",
      "\n",
      "1. **Perception**: AI agents can gather information from their environment through sensors or data inputs. This could involve processing visual data, audio signals, or other forms of input.\n",
      "\n",
      "2. **Decision-Making**: Based on the information they perceive, AI agents can analyze the data and make decisions. This can involve reasoning, planning, and learning from past experiences.\n",
      "\n",
      "3. **Action**: After making decisions, AI agents can take actions to interact with their environment. This could involve physical actions (like a robot moving) or digital actions (like a software agent executing commands).\n",
      "\n",
      "4. **Autonomy**: Many AI agents operate with a degree of autonomy, meaning they can perform tasks without human intervention. However, some may require human oversight or input.\n",
      "\n",
      "5. **Adaptability**: Advanced AI agents can learn from their experiences and adapt their behavior over time, improving their performance in specific tasks.\n",
      "\n",
      "AI agents can be categorized into different types, such as:\n",
      "\n",
      "- **Reactive Agents**: These agents respond to specific stimuli in their environment without maintaining an internal state or memory.\n",
      "- **Deliberative Agents**: These agents maintain an internal model of the world and can plan and reason about their actions.\n",
      "- **Learning Agents**: These agents can improve their performance over time by learning from data and experiences.\n",
      "\n",
      "Examples of AI agents include virtual assistants (like Siri or Alexa), autonomous vehicles, chatbots, recommendation systems, and game-playing AI (like AlphaGo).\n"
     ]
    }
   ],
   "execution_count": 4
  },
  {
   "metadata": {},
   "cell_type": "code",
   "source": [
    "# Method 2: Multi-turn conversation with specific roles\n",
    "messages = [\n",
    "    SystemMessage(content=\"You're an OpenAI API specialist\"),\n",
    "    UserMessage(content=\"What is Function Calling?\")\n",
    "]\n",
    "response = chat_model.invoke(messages)\n",
    "print(\"\\nStructured Conversation Response:\\n\", response.content)"
   ],
   "id": "5ee0fca6a5572e65",
   "outputs": [],
   "execution_count": null
  },
  {
   "metadata": {},
   "cell_type": "markdown",
   "source": [
    "## Building an AI Tool\n",
    "Now let's make our AI more capable by giving it a tool to check the weather.\n",
    "This demonstrates how we can extend AI capabilities beyond just conversation.\n",
    "\n",
    "### Understanding the Tool Structure:\n",
    "1. We use the `@tool` decorator to mark a function as an AI tool\n",
    "2. The tool needs clear documentation and typed parameters\n",
    "3. The tool should return structured data"
   ],
   "id": "794956222b5018ac"
  },
  {
   "metadata": {},
   "cell_type": "code",
   "source": [
    "@tool\n",
    "def get_weather(city: str):\n",
    "    \"\"\"Get the current temperature for a city.\n",
    "\n",
    "    Args:\n",
    "        city (str): Name of the city to check weather for\n",
    "\n",
    "    Returns:\n",
    "        dict: Contains temperature information for the requested city\n",
    "    \"\"\"\n",
    "    # In a real application, this would call a weather API\n",
    "    mock_weather = {\n",
    "        \"São Paulo\": \"28°C\",\n",
    "        \"Oslo\": \"-3°C\",\n",
    "        \"New York\": \"15°C\",\n",
    "        \"Tokyo\": \"22°C\"\n",
    "    }\n",
    "    return {\"temperature\": mock_weather.get(city, \"Unknown\")}"
   ],
   "id": "9a55f41d6788df33",
   "outputs": [],
   "execution_count": null
  },
  {
   "metadata": {},
   "cell_type": "code",
   "source": "# Bind the tool to an LLM\nchat_model_with_tools = LLM(\n    tools=[get_weather],\n    api_key=os.getenv(\"OPENAI_API_KEY\"),\n    base_url=os.getenv(\"OPENAI_BASE_URL\")\n)",
   "id": "eb2e95c88d7bc190",
   "outputs": [],
   "execution_count": null
  },
  {
   "metadata": {},
   "cell_type": "markdown",
   "source": [
    "## Understanding the Tool Usage Flow\n",
    "Let's break down how the AI uses tools step by step:\n",
    "\n",
    "1. User asks a question about weather\n",
    "2. AI recognizes the need to use the weather tool\n",
    "3. AI makes a tool call\n",
    "4. Tool executes and returns results\n",
    "5. AI processes the tool's response\n",
    "6. AI formulates a natural language response\n",
    "\n",
    "Let's see this in action:"
   ],
   "id": "fc4988ebc3c88b65"
  },
  {
   "metadata": {},
   "cell_type": "code",
   "source": [
    "# Set up our system with clear instructions\n",
    "messages = [\n",
    "    SystemMessage(\n",
    "        content=\"You are a helpful assistant that can access a tool to get current temperature \"\n",
    "                \"for cities. Use the tool whenever someone asks about the weather or temperature \"\n",
    "                \"in a specific location. Inform the user if you don't know the answer.\"\n",
    "    ),\n",
    "    UserMessage(content=\"How cold is it in Oslo?\")\n",
    "]"
   ],
   "id": "ca2a44f5dd83084",
   "outputs": [],
   "execution_count": null
  },
  {
   "metadata": {},
   "cell_type": "code",
   "source": [
    "# AI decides to use the weather tool\n",
    "ai_message = chat_model_with_tools.invoke(messages)\n",
    "ai_message"
   ],
   "id": "302c1c0935e00e3c",
   "outputs": [],
   "execution_count": null
  },
  {
   "metadata": {},
   "cell_type": "code",
   "source": [
    "# Check messages structure\n",
    "messages.append(ai_message)\n",
    "messages"
   ],
   "id": "8ab81ed9f200c2db",
   "outputs": [],
   "execution_count": null
  },
  {
   "metadata": {},
   "cell_type": "code",
   "source": [
    "# Tool call id will be required later when creating the ToolMessage\n",
    "tool_call_id = messages[-1].tool_calls[0].id\n",
    "tool_call_id"
   ],
   "id": "5d532ceddb3f2d4b",
   "outputs": [],
   "execution_count": null
  },
  {
   "metadata": {},
   "cell_type": "code",
   "source": [
    "# Extract the arguments\n",
    "args = json.loads(messages[-1].tool_calls[0].function.arguments)\n",
    "args"
   ],
   "id": "14917df94797cd06",
   "outputs": [],
   "execution_count": null
  },
  {
   "metadata": {},
   "cell_type": "code",
   "source": [
    "# Execute the tool with the AI's requested parameters\n",
    "tool_result = get_weather(**args)\n",
    "tool_result"
   ],
   "id": "559b985adc9d4b3b",
   "outputs": [],
   "execution_count": null
  },
  {
   "metadata": {},
   "cell_type": "code",
   "source": [
    "# Create a tool response message\n",
    "tool_message = ToolMessage(\n",
    "    content=tool_result[\"temperature\"],\n",
    "    tool_call_id=tool_call_id,\n",
    "    name=\"get_weather\"\n",
    ")\n",
    "tool_message"
   ],
   "id": "edd70074741b0ec4",
   "outputs": [],
   "execution_count": null
  },
  {
   "metadata": {},
   "cell_type": "code",
   "source": [
    "# Check messages structure\n",
    "messages.append(tool_message)\n",
    "messages"
   ],
   "id": "78282c983510cb44",
   "outputs": [],
   "execution_count": null
  },
  {
   "metadata": {},
   "cell_type": "code",
   "source": [
    "# Let AI formulate final response\n",
    "ai_message = chat_model_with_tools.invoke(messages)\n",
    "ai_message"
   ],
   "id": "bb1df92eafd41f99",
   "outputs": [],
   "execution_count": null
  },
  {
   "metadata": {},
   "cell_type": "code",
   "source": [
    "# Check messages structure\n",
    "messages.append(ai_message)\n",
    "messages"
   ],
   "id": "c1e6585a7f87677e",
   "outputs": [],
   "execution_count": null
  }
 ],
 "metadata": {
  "kernelspec": {
   "display_name": "Python",
   "language": "python",
   "name": "python"
  },
  "language_info": {
   "codemirror_mode": {
    "name": "ipython",
    "version": 2
   },
   "file_extension": ".py",
   "mimetype": "text/x-python",
   "name": "python",
   "nbconvert_exporter": "python",
   "pygments_lexer": "ipython2",
   "version": "2.7.6"
  }
 },
 "nbformat": 4,
 "nbformat_minor": 5
}
