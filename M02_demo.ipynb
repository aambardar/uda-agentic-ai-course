{
 "cells": [
  {
   "metadata": {},
   "cell_type": "markdown",
   "source": [
    "# Structured Outputs\n",
    "This notebook demonstrates how to work with different output formats and parsers when working with Language Models (LLM).\n",
    "\n",
    "## What we'll learn:\n",
    "- Basic string output parsing\n",
    "- Working with tools and structured outputs\n",
    "- Using Pydantic models for type validation\n",
    "- Understanding different parser types and their use cases"
   ],
   "id": "98870aa6cea482a2"
  },
  {
   "metadata": {},
   "cell_type": "markdown",
   "source": "### Setup",
   "id": "702acc965c582e27"
  },
  {
   "cell_type": "code",
   "execution_count": null,
   "id": "initial_id",
   "metadata": {
    "collapsed": true
   },
   "outputs": [],
   "source": [
    "from typing import Annotated\n",
    "from pydantic import BaseModel, Field\n",
    "from dotenv import load_dotenv\n",
    "from lib.messages import UserMessage, SystemMessage\n",
    "from lib.tooling import tool\n",
    "from lib.llm import LLM\n",
    "from lib.parsers import (\n",
    "    StrOutputParser,\n",
    "    JsonOutputParser,\n",
    "    PydanticOutputParser,\n",
    "    ToolOutputParser,\n",
    ")"
   ]
  },
  {
   "metadata": {},
   "cell_type": "code",
   "outputs": [],
   "execution_count": null,
   "source": "load_dotenv()",
   "id": "df1a708e5657486"
  },
  {
   "metadata": {},
   "cell_type": "code",
   "outputs": [],
   "execution_count": null,
   "source": "chat_model = LLM()",
   "id": "893408a232c33d67"
  },
  {
   "metadata": {},
   "cell_type": "markdown",
   "source": [
    "## Basic String Output\n",
    "Before diving into more complex output formats, let's understand how to work with simple string outputs from our Language Model.\n",
    "This demonstrates the most basic form of parsing LLM responses."
   ],
   "id": "38edd5ae7155844f"
  },
  {
   "metadata": {},
   "cell_type": "code",
   "outputs": [],
   "execution_count": null,
   "source": [
    "messages = [\n",
    "    SystemMessage(content=\"Extract the event information.\"),\n",
    "    UserMessage(content=\"Alice and Bob are going to a science fair on Friday.\")\n",
    "]"
   ],
   "id": "e4ba3b436acff8aa"
  },
  {
   "metadata": {},
   "cell_type": "code",
   "outputs": [],
   "execution_count": null,
   "source": [
    "ai_message = chat_model.invoke(messages)\n",
    "ai_message"
   ],
   "id": "fd6ca7cd64559da8"
  },
  {
   "metadata": {},
   "cell_type": "code",
   "outputs": [],
   "execution_count": null,
   "source": [
    "parser = StrOutputParser()\n",
    "print(parser.parse(ai_message))"
   ],
   "id": "30e35d5ccf0eb8d9"
  },
  {
   "metadata": {},
   "cell_type": "markdown",
   "source": [
    "## Working with Tools\n",
    "Now let's see how we can use tools to get structured outputs from our LLM.\n",
    "Tools help us enforce a specific format for the output and make it easier to process programmatically."
   ],
   "id": "269e31aeeada6ed4"
  },
  {
   "metadata": {},
   "cell_type": "code",
   "outputs": [],
   "execution_count": null,
   "source": [
    "@tool\n",
    "def calendar_event(name:str, date:str, participants:list[str]):\n",
    "    \"\"\"Identify name of the event, date when it will happen and all the participants\"\"\"\n",
    "    return {\n",
    "        \"name\": name,\n",
    "        \"date\": date,\n",
    "        \"participants\": participants\n",
    "    }"
   ],
   "id": "b95f324612ed6b75"
  },
  {
   "metadata": {},
   "cell_type": "code",
   "outputs": [],
   "execution_count": null,
   "source": [
    "messages = [\n",
    "    SystemMessage(content=\"Extract the event information.\"),\n",
    "    UserMessage(content=\"Alice and Bob are going to a science fair on Friday.\")\n",
    "]"
   ],
   "id": "d40c8a2df4af198a"
  },
  {
   "metadata": {},
   "cell_type": "code",
   "outputs": [],
   "execution_count": null,
   "source": [
    "chat_model_with_tools = LLM(tools=[calendar_event])\n",
    "ai_message = chat_model_with_tools.invoke(messages)"
   ],
   "id": "e40efa997ab16a6a"
  },
  {
   "metadata": {},
   "cell_type": "code",
   "outputs": [],
   "execution_count": null,
   "source": [
    "# This gives us the variables identified by the LLM\n",
    "parser = ToolOutputParser()\n",
    "parser.parse(ai_message)[0][\"args\"]"
   ],
   "id": "744811992d6a5945"
  },
  {
   "metadata": {},
   "cell_type": "markdown",
   "source": [
    "## Using Pydantic Models\n",
    "Pydantic provides a powerful way to validate and structure our LLM outputs.\n",
    "This approach gives us type safety and data validation out of the box."
   ],
   "id": "83911538f72d3e2d"
  },
  {
   "metadata": {},
   "cell_type": "code",
   "outputs": [],
   "execution_count": null,
   "source": [
    "class CalendarEvent(BaseModel):\n",
    "    \"\"\"A Pydantic model representing a calendar event.\n",
    "\n",
    "    This model defines the structure for calendar events with validation:\n",
    "    - name: The name/title of the event\n",
    "    - date: When the event will occur\n",
    "    - participants: List of people attending the event\n",
    "    \"\"\"\n",
    "\n",
    "    name: Annotated[str, Field(description=\"Name/Title of the event. Defaults to ''\", default=None)]\n",
    "    date: Annotated[str, Field(description=\"Date of the event. Defaults to ''\", default=None)]\n",
    "    participants: Annotated[list[str], Field(description=\"Who will participate. Defaults to ''\", default=None)]"
   ],
   "id": "b20bc97bdc841ef0"
  },
  {
   "metadata": {},
   "cell_type": "code",
   "outputs": [],
   "execution_count": null,
   "source": [
    "messages = [\n",
    "    SystemMessage(content=\"Extract the event information.\"),\n",
    "    UserMessage(content=\"Alice and Bob are going to a science fair on Friday.\")\n",
    "]"
   ],
   "id": "a4dcf9b185623c38"
  },
  {
   "metadata": {},
   "cell_type": "code",
   "outputs": [],
   "execution_count": null,
   "source": [
    "ai_message = chat_model.invoke(input=messages, response_format=CalendarEvent)\n",
    "ai_message"
   ],
   "id": "2d2212bf1a522f52"
  },
  {
   "metadata": {},
   "cell_type": "code",
   "outputs": [],
   "execution_count": null,
   "source": [
    "# This gives us a structured dictionary we can work with programmatically\n",
    "parser = JsonOutputParser()\n",
    "parser.parse(ai_message)"
   ],
   "id": "263466daa0cac149"
  },
  {
   "metadata": {},
   "cell_type": "code",
   "outputs": [],
   "execution_count": null,
   "source": [
    "# This gives us a validated Pydantic model with type checking\n",
    "parser = PydanticOutputParser(model_class=CalendarEvent)\n",
    "event:CalendarEvent = parser.parse(ai_message)\n",
    "event"
   ],
   "id": "d25b73748ddcdb38"
  },
  {
   "metadata": {},
   "cell_type": "code",
   "outputs": [],
   "execution_count": null,
   "source": "event.participants",
   "id": "ed9f4f765025ce85"
  }
 ],
 "metadata": {
  "kernelspec": {
   "display_name": "Python 3",
   "language": "python",
   "name": "python3"
  },
  "language_info": {
   "codemirror_mode": {
    "name": "ipython",
    "version": 2
   },
   "file_extension": ".py",
   "mimetype": "text/x-python",
   "name": "python",
   "nbconvert_exporter": "python",
   "pygments_lexer": "ipython2",
   "version": "2.7.6"
  }
 },
 "nbformat": 4,
 "nbformat_minor": 5
}
