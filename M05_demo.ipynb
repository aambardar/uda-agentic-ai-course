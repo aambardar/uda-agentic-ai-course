{
 "cells": [
  {
   "metadata": {},
   "cell_type": "markdown",
   "source": [
    "# Module 05: External APIs\n",
    "This notebook demonstrates how to call real APIs."
   ],
   "id": "2a09c66865bcfc6b"
  },
  {
   "metadata": {},
   "cell_type": "markdown",
   "source": [
    "## What we'll learn:\n",
    "- GET\n",
    "- POST\n",
    "- PUT\n",
    "- API Key\n",
    "- Status Codes"
   ],
   "id": "b83ef654c661ee84"
  },
  {
   "metadata": {},
   "cell_type": "markdown",
   "source": "### Setup",
   "id": "54f62c6bd36913f4"
  },
  {
   "cell_type": "code",
   "execution_count": null,
   "id": "initial_id",
   "metadata": {
    "collapsed": true
   },
   "outputs": [],
   "source": [
    "import os\n",
    "import random\n",
    "import requests\n",
    "from dotenv import load_dotenv"
   ]
  },
  {
   "metadata": {},
   "cell_type": "code",
   "outputs": [],
   "execution_count": null,
   "source": "load_dotenv()",
   "id": "a851b1ae65dd21f2"
  },
  {
   "metadata": {},
   "cell_type": "markdown",
   "source": "## GET REQUEST",
   "id": "7caaede1d49a9f80"
  },
  {
   "metadata": {},
   "cell_type": "markdown",
   "source": "**Pokémon**",
   "id": "dbee70465c895481"
  },
  {
   "metadata": {},
   "cell_type": "code",
   "outputs": [],
   "execution_count": null,
   "source": [
    "URL = \"https://pokeapi.co/api/v2/pokemon?limit=151\"\n",
    "\n",
    "response = requests.get(url=URL)"
   ],
   "id": "e4d7aea9ebbf4a6e"
  },
  {
   "metadata": {},
   "cell_type": "code",
   "outputs": [],
   "execution_count": null,
   "source": "response",
   "id": "c36c85f1e20471c2"
  },
  {
   "metadata": {},
   "cell_type": "code",
   "outputs": [],
   "execution_count": null,
   "source": "random.choice(response.json()['results'])",
   "id": "bb8211d834c9d4fb"
  },
  {
   "metadata": {},
   "cell_type": "markdown",
   "source": "**Open Weather**",
   "id": "4b85ca6e9936199a"
  },
  {
   "metadata": {},
   "cell_type": "code",
   "outputs": [],
   "execution_count": null,
   "source": [
    "BASE_URL = \"https://api.openweathermap.org/data/2.5/weather\"\n",
    "API_KEY = os.getenv(\"OPENWEATHER_API_KEY\")\n",
    "CITY = \"Sao Paulo\"\n",
    "\n",
    "URL = f\"{BASE_URL}?appid={API_KEY}&q={CITY}&units=metric\"\n",
    "\n",
    "response = requests.get(\n",
    "    url=URL,\n",
    ")"
   ],
   "id": "65609178f92c5ac2"
  },
  {
   "metadata": {},
   "cell_type": "code",
   "outputs": [],
   "execution_count": null,
   "source": "response",
   "id": "72266e2e7b9bba5b"
  },
  {
   "metadata": {},
   "cell_type": "code",
   "outputs": [],
   "execution_count": null,
   "source": "response.json()",
   "id": "53d517d3ba2a2f11"
  },
  {
   "metadata": {},
   "cell_type": "markdown",
   "source": "**Exchange Rate API**",
   "id": "aa16ace5021f733f"
  },
  {
   "metadata": {},
   "cell_type": "code",
   "outputs": [],
   "execution_count": null,
   "source": [
    "BASE_URL = \"https://v6.exchangerate-api.com/v6\"\n",
    "API_KEY = os.getenv(\"EXCHANGERATE_API_KEY\")\n",
    "CURRENCY = \"USD\"\n",
    "\n",
    "URL = f\"{BASE_URL}/{API_KEY}/latest/{CURRENCY}\"\n",
    "\n",
    "response = requests.get(\n",
    "    url=URL,\n",
    ")"
   ],
   "id": "9e888309273b83a7"
  },
  {
   "metadata": {},
   "cell_type": "code",
   "outputs": [],
   "execution_count": null,
   "source": "response",
   "id": "2867b973d70cda2b"
  },
  {
   "metadata": {},
   "cell_type": "code",
   "outputs": [],
   "execution_count": null,
   "source": "response.json()[\"conversion_rates\"][\"BRL\"]",
   "id": "2522cf27261ef71a"
  },
  {
   "metadata": {},
   "cell_type": "markdown",
   "source": "## POST & PUT",
   "id": "b2cf9999ffdf4b32"
  },
  {
   "metadata": {},
   "cell_type": "markdown",
   "source": "**JSON PLACEHOLDER**",
   "id": "153c273677db2bab"
  },
  {
   "metadata": {},
   "cell_type": "markdown",
   "source": "Creating a new resource",
   "id": "deaf49e4915b3336"
  },
  {
   "metadata": {},
   "cell_type": "code",
   "outputs": [],
   "execution_count": null,
   "source": [
    "URL = \"https://jsonplaceholder.typicode.com/posts\"\n",
    "DATA = {\n",
    "    \"title\": \"Building Agents\",\n",
    "    \"author\": \"Henrique Santana\",\n",
    "}\n",
    "\n",
    "response = requests.post(\n",
    "    url=URL,\n",
    "    data=DATA,\n",
    ")"
   ],
   "id": "7d89d88670a597f3"
  },
  {
   "metadata": {},
   "cell_type": "code",
   "outputs": [],
   "execution_count": null,
   "source": "response",
   "id": "66cda0ef8802ba7c"
  },
  {
   "metadata": {},
   "cell_type": "code",
   "outputs": [],
   "execution_count": null,
   "source": "response.json()",
   "id": "5c4a2c096aef485d"
  },
  {
   "metadata": {},
   "cell_type": "markdown",
   "source": "Getting Resource",
   "id": "867ff42d910437f6"
  },
  {
   "metadata": {},
   "cell_type": "code",
   "outputs": [],
   "execution_count": null,
   "source": [
    "URL = \"https://jsonplaceholder.typicode.com/posts/1\"\n",
    "\n",
    "response = requests.get(\n",
    "    url=URL,\n",
    ")"
   ],
   "id": "9687ef67e1d6d09b"
  },
  {
   "metadata": {},
   "cell_type": "code",
   "outputs": [],
   "execution_count": null,
   "source": "response",
   "id": "caa5114d41c465cf"
  },
  {
   "metadata": {},
   "cell_type": "code",
   "outputs": [],
   "execution_count": null,
   "source": "response.json()",
   "id": "6124d40bac2bcf9"
  },
  {
   "metadata": {},
   "cell_type": "markdown",
   "source": "Updating that resource",
   "id": "93a026d5a75e8e1a"
  },
  {
   "metadata": {},
   "cell_type": "code",
   "outputs": [],
   "execution_count": null,
   "source": [
    "URL = \"https://jsonplaceholder.typicode.com/posts/1\"\n",
    "DATA = {\n",
    "    \"title\": \"New title\",\n",
    "    \"body\": \"New body\",\n",
    "}\n",
    "\n",
    "response = requests.put(\n",
    "    url=URL,\n",
    "    data=DATA,\n",
    ")"
   ],
   "id": "8b463611697c040f"
  },
  {
   "metadata": {},
   "cell_type": "code",
   "outputs": [],
   "execution_count": null,
   "source": "response",
   "id": "e4cc58287cfcb13"
  },
  {
   "metadata": {},
   "cell_type": "code",
   "outputs": [],
   "execution_count": null,
   "source": "response.json()",
   "id": "844e5a9157393d6f"
  }
 ],
 "metadata": {
  "kernelspec": {
   "display_name": "Python 3",
   "language": "python",
   "name": "python3"
  },
  "language_info": {
   "codemirror_mode": {
    "name": "ipython",
    "version": 2
   },
   "file_extension": ".py",
   "mimetype": "text/x-python",
   "name": "python",
   "nbconvert_exporter": "python",
   "pygments_lexer": "ipython2",
   "version": "2.7.6"
  }
 },
 "nbformat": 4,
 "nbformat_minor": 5
}
